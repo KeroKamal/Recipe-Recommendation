{
 "cells": [
  {
   "cell_type": "code",
   "execution_count": null,
   "metadata": {},
   "outputs": [],
   "source": [
    "import pandas as pd\n",
    "\n",
    "def add_quotes_to_list_string(list_str):\n",
    "    list_str = list_str.strip()\n",
    "    if list_str.startswith('[') and list_str.endswith(']'):\n",
    "        inner_str = list_str[1:-1].strip()\n",
    "        if not inner_str:\n",
    "            return '[]'\n",
    "        items = [f'\"{item.strip()}\"' for item in inner_str.split(',')]\n",
    "        new_str = '[' + ', '.join(items) + ']'\n",
    "        return new_str\n",
    "    else:\n",
    "        return list_str\n",
    "\n",
    "df = pd.read_csv('filtered_recipes_data.csv')\n",
    "columns_to_update = ['NER', 'ingredients']\n",
    "\n",
    "for col in columns_to_update:\n",
    "    if col in df.columns:\n",
    "        df[col] = df[col].apply(add_quotes_to_list_string)\n",
    "    else:\n",
    "        print(f\"Column '{col}' not found in the CSV.\")\n",
    "\n",
    "df.to_csv('data_with_quotes.csv', index=False)\n",
    "print(\"Updated CSV saved to 'data_with_quotes.csv'.\")\n"
   ]
  }
 ],
 "metadata": {
  "language_info": {
   "name": "python"
  }
 },
 "nbformat": 4,
 "nbformat_minor": 2
}
