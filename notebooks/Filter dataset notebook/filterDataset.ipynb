{
 "cells": [
  {
   "cell_type": "code",
   "execution_count": null,
   "metadata": {},
   "outputs": [],
   "source": [
    "import pandas as pd\n",
    "import os\n",
    "\n",
    "csv_file = 'recipes_data.csv'\n",
    "df = pd.read_csv(csv_file)\n",
    "\n",
    "df = df.drop_duplicates(subset=['title'])\n",
    "df = df[['title', 'NER', 'ingredients']]\n",
    "\n",
    "image_folder = 'recipe_images'\n",
    "image_files = os.listdir(image_folder)\n",
    "image_names = {os.path.splitext(filename)[0] for filename in image_files}\n",
    "\n",
    "filtered_df = df[df['title'].isin(image_names)]\n",
    "filtered_df.to_csv('filtered_recipes_data2.csv', index=False)\n",
    "\n",
    "print(\"Filtered dataset saved as 'filtered_recipes_data.csv'.\")\n"
   ]
  }
 ],
 "metadata": {
  "kernelspec": {
   "display_name": "test_env",
   "language": "python",
   "name": "python3"
  },
  "language_info": {
   "codemirror_mode": {
    "name": "ipython",
    "version": 3
   },
   "file_extension": ".py",
   "mimetype": "text/x-python",
   "name": "python",
   "nbconvert_exporter": "python",
   "pygments_lexer": "ipython3",
   "version": "3.9.0"
  }
 },
 "nbformat": 4,
 "nbformat_minor": 2
}
