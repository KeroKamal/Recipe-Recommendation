{
 "cells": [
  {
   "cell_type": "code",
   "execution_count": null,
   "metadata": {},
   "outputs": [
    {
     "name": "stdout",
     "output_type": "stream",
     "text": [
      "Extracted 11837 unique disease names.\n",
      "CSV file 'real_disease_names.csv' created with 11837 rows.\n"
     ]
    }
   ],
   "source": [
    "import obonet\n",
    "import pandas as pd\n",
    "\n",
    "url = 'http://purl.obolibrary.org/obo/doid.obo'\n",
    "graph = obonet.read_obo(url)\n",
    "\n",
    "disease_names = []\n",
    "for node_id, data in graph.nodes(data=True):\n",
    "    if \"name\" in data and node_id.startswith(\"DOID:\"):\n",
    "        disease_names.append(data[\"name\"])\n",
    "\n",
    "disease_names = list(set(disease_names))\n",
    "print(f\"Extracted {len(disease_names)} unique disease names.\")\n",
    "\n",
    "df = pd.DataFrame(disease_names, columns=[\"Disease\"])\n",
    "output_filename = \"real_disease_names.csv\"\n",
    "df.to_csv(output_filename, index=False)\n",
    "print(f\"CSV file '{output_filename}' created with {len(df)} rows.\")\n"
   ]
  }
 ],
 "metadata": {
  "kernelspec": {
   "display_name": "test_env",
   "language": "python",
   "name": "python3"
  },
  "language_info": {
   "codemirror_mode": {
    "name": "ipython",
    "version": 3
   },
   "file_extension": ".py",
   "mimetype": "text/x-python",
   "name": "python",
   "nbconvert_exporter": "python",
   "pygments_lexer": "ipython3",
   "version": "3.9.0"
  }
 },
 "nbformat": 4,
 "nbformat_minor": 2
}
