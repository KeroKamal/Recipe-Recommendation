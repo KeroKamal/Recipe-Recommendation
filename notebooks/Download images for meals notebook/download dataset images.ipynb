{
 "cells": [
  {
   "cell_type": "code",
   "execution_count": null,
   "metadata": {},
   "outputs": [],
   "source": [
    "import os\n",
    "import pandas as pd\n",
    "from icrawler.builtin import GoogleImageCrawler\n",
    "\n",
    "df = pd.read_csv('recipes_data.csv')\n",
    "dish_names = df['title'].dropna().unique()\n",
    "\n",
    "output_dir = 'recipe_images'\n",
    "os.makedirs(output_dir, exist_ok=True)\n",
    "\n",
    "downloaded = set()\n",
    "for fname in os.listdir(output_dir):\n",
    "    if fname == 'temp':\n",
    "        continue\n",
    "    downloaded.add(fname)\n",
    "\n",
    "for dish in dish_names:\n",
    "    dest_filename = f\"{dish}.jpg\"\n",
    "    if any(dest_filename in existing for existing in downloaded):\n",
    "        print(f\"Skipping {dish}, image already downloaded.\")\n",
    "        continue\n",
    "\n",
    "    query = f\"{dish} recipe\"\n",
    "    temp_dir = os.path.join(output_dir, 'temp')\n",
    "    os.makedirs(temp_dir, exist_ok=True)\n",
    "    \n",
    "    crawler = GoogleImageCrawler(storage={'root_dir': temp_dir})\n",
    "    try:\n",
    "        crawler.crawl(keyword=query, max_num=1)\n",
    "        temp_files = os.listdir(temp_dir)\n",
    "        if temp_files:\n",
    "            src_file = os.path.join(temp_dir, temp_files[0])\n",
    "            final_dest_file = os.path.join(output_dir, dest_filename)\n",
    "            if os.path.exists(final_dest_file):\n",
    "                base, ext = os.path.splitext(dest_filename)\n",
    "                counter = 1\n",
    "                while os.path.exists(os.path.join(output_dir, f\"{base} ({counter}){ext}\")):\n",
    "                    counter += 1\n",
    "                final_dest_file = os.path.join(output_dir, f\"{base} ({counter}){ext}\")\n",
    "            os.rename(src_file, final_dest_file)\n",
    "            downloaded.add(os.path.basename(final_dest_file))\n",
    "            print(f\"Downloaded image for '{dish}'.\")\n",
    "    except Exception as e:\n",
    "        print(f\"Error downloading image for '{dish}': {e}\")\n",
    "    \n",
    "    for f in os.listdir(temp_dir):\n",
    "        os.remove(os.path.join(temp_dir, f))\n"
   ]
  }
 ],
 "metadata": {
  "kernelspec": {
   "display_name": "test_env",
   "language": "python",
   "name": "python3"
  },
  "language_info": {
   "codemirror_mode": {
    "name": "ipython",
    "version": 3
   },
   "file_extension": ".py",
   "mimetype": "text/x-python",
   "name": "python",
   "nbconvert_exporter": "python",
   "pygments_lexer": "ipython3",
   "version": "3.9.0"
  }
 },
 "nbformat": 4,
 "nbformat_minor": 2
}
